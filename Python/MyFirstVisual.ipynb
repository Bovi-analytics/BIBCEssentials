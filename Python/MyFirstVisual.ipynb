{
  "nbformat": 4,
  "nbformat_minor": 0,
  "metadata": {
    "colab": {
      "name": "MyFirstVisual.ipynb",
      "provenance": [],
      "mount_file_id": "1gbC-Uyp6hf-dnYRdKGPQ5XCarTyf0BcU",
      "authorship_tag": "ABX9TyOopx4axkGPHJzkVLk7hRnx",
      "include_colab_link": true
    },
    "kernelspec": {
      "name": "python3",
      "display_name": "Python 3"
    }
  },
  "cells": [
    {
      "cell_type": "markdown",
      "metadata": {
        "id": "view-in-github",
        "colab_type": "text"
      },
      "source": [
        "<a href=\"https://colab.research.google.com/github/Bovi-analytics/BIBCEssentials/blob/master/Python/MyFirstVisual.ipynb\" target=\"_parent\"><img src=\"https://colab.research.google.com/assets/colab-badge.svg\" alt=\"Open In Colab\"/></a>"
      ]
    },
    {
      "cell_type": "markdown",
      "metadata": {
        "id": "h_0r5Vs8Xfn2",
        "colab_type": "text"
      },
      "source": [
        "# Python Notebook for scorings"
      ]
    },
    {
      "cell_type": "code",
      "metadata": {
        "id": "T7BTpMk7XoXt",
        "colab_type": "code",
        "colab": {
          "base_uri": "https://localhost:8080/",
          "height": 35
        },
        "outputId": "1bbc6b67-765b-4837-d56a-892de4ed39a0"
      },
      "source": [
        "!ls /content/drive/Shared\\ drives/Bovi-Analytics/Data/ExampleDatasets/BIBC"
      ],
      "execution_count": null,
      "outputs": [
        {
          "output_type": "stream",
          "text": [
            "Scorings.csv\n"
          ],
          "name": "stdout"
        }
      ]
    },
    {
      "cell_type": "markdown",
      "metadata": {
        "id": "p6-kC0VXZFRF",
        "colab_type": "text"
      },
      "source": [
        "## Data extraction, transformation and loading"
      ]
    },
    {
      "cell_type": "markdown",
      "metadata": {
        "id": "Ls0mEH9PZNkK",
        "colab_type": "text"
      },
      "source": [
        "### Packages loaded"
      ]
    },
    {
      "cell_type": "code",
      "metadata": {
        "id": "hm1-2UQVXk5i",
        "colab_type": "code",
        "colab": {}
      },
      "source": [
        "from google.colab import drive\n",
        "import pandas as pd"
      ],
      "execution_count": null,
      "outputs": []
    },
    {
      "cell_type": "markdown",
      "metadata": {
        "id": "iUqwFSodZW4C",
        "colab_type": "text"
      },
      "source": [
        "### Data loading"
      ]
    },
    {
      "cell_type": "code",
      "metadata": {
        "id": "fUJ8FJ2uZVna",
        "colab_type": "code",
        "colab": {}
      },
      "source": [
        "drive.mount('/gdrive')"
      ],
      "execution_count": null,
      "outputs": []
    },
    {
      "cell_type": "code",
      "metadata": {
        "id": "-dUnG3n5ZaE1",
        "colab_type": "code",
        "colab": {}
      },
      "source": [
        "file = '/content/drive/Shared drives/Bovi-Analytics/Data/ExampleDatasets/BIBC/Scorings.csv'"
      ],
      "execution_count": null,
      "outputs": []
    },
    {
      "cell_type": "code",
      "metadata": {
        "id": "Rew5j4cGYpXh",
        "colab_type": "code",
        "colab": {}
      },
      "source": [
        "df_scorings = pd.read_csv(file, sep = \";\", decimal=\".\")"
      ],
      "execution_count": null,
      "outputs": []
    },
    {
      "cell_type": "code",
      "metadata": {
        "id": "S2BGi7jBZ-OT",
        "colab_type": "code",
        "colab": {
          "base_uri": "https://localhost:8080/",
          "height": 407
        },
        "outputId": "b3efce53-6c79-45c9-8be1-e16bdd1b940c"
      },
      "source": [
        "df_scorings"
      ],
      "execution_count": null,
      "outputs": [
        {
          "output_type": "execute_result",
          "data": {
            "text/html": [
              "<div>\n",
              "<style scoped>\n",
              "    .dataframe tbody tr th:only-of-type {\n",
              "        vertical-align: middle;\n",
              "    }\n",
              "\n",
              "    .dataframe tbody tr th {\n",
              "        vertical-align: top;\n",
              "    }\n",
              "\n",
              "    .dataframe thead th {\n",
              "        text-align: right;\n",
              "    }\n",
              "</style>\n",
              "<table border=\"1\" class=\"dataframe\">\n",
              "  <thead>\n",
              "    <tr style=\"text-align: right;\">\n",
              "      <th></th>\n",
              "      <th>Date</th>\n",
              "      <th>Sex</th>\n",
              "      <th>AnimalIdentifier</th>\n",
              "      <th>Weight</th>\n",
              "      <th>Color</th>\n",
              "      <th>Feet</th>\n",
              "      <th>Head</th>\n",
              "      <th>Type</th>\n",
              "      <th>FeatherColor</th>\n",
              "    </tr>\n",
              "  </thead>\n",
              "  <tbody>\n",
              "    <tr>\n",
              "      <th>0</th>\n",
              "      <td>30/04/2020</td>\n",
              "      <td>Male</td>\n",
              "      <td>0</td>\n",
              "      <td>637</td>\n",
              "      <td>Blue</td>\n",
              "      <td>NaN</td>\n",
              "      <td>NaN</td>\n",
              "      <td>NaN</td>\n",
              "      <td>NaN</td>\n",
              "    </tr>\n",
              "    <tr>\n",
              "      <th>1</th>\n",
              "      <td>30/04/2020</td>\n",
              "      <td>Male</td>\n",
              "      <td>0</td>\n",
              "      <td>686</td>\n",
              "      <td>Black</td>\n",
              "      <td>NaN</td>\n",
              "      <td>NaN</td>\n",
              "      <td>NaN</td>\n",
              "      <td>NaN</td>\n",
              "    </tr>\n",
              "    <tr>\n",
              "      <th>2</th>\n",
              "      <td>30/04/2020</td>\n",
              "      <td>Male</td>\n",
              "      <td>0</td>\n",
              "      <td>702</td>\n",
              "      <td>NaN</td>\n",
              "      <td>NaN</td>\n",
              "      <td>NaN</td>\n",
              "      <td>NaN</td>\n",
              "      <td>NaN</td>\n",
              "    </tr>\n",
              "    <tr>\n",
              "      <th>3</th>\n",
              "      <td>30/04/2020</td>\n",
              "      <td>Male</td>\n",
              "      <td>0</td>\n",
              "      <td>740</td>\n",
              "      <td>NaN</td>\n",
              "      <td>NaN</td>\n",
              "      <td>NaN</td>\n",
              "      <td>NaN</td>\n",
              "      <td>NaN</td>\n",
              "    </tr>\n",
              "    <tr>\n",
              "      <th>4</th>\n",
              "      <td>30/04/2020</td>\n",
              "      <td>Male</td>\n",
              "      <td>0</td>\n",
              "      <td>740</td>\n",
              "      <td>NaN</td>\n",
              "      <td>NaN</td>\n",
              "      <td>NaN</td>\n",
              "      <td>NaN</td>\n",
              "      <td>NaN</td>\n",
              "    </tr>\n",
              "    <tr>\n",
              "      <th>...</th>\n",
              "      <td>...</td>\n",
              "      <td>...</td>\n",
              "      <td>...</td>\n",
              "      <td>...</td>\n",
              "      <td>...</td>\n",
              "      <td>...</td>\n",
              "      <td>...</td>\n",
              "      <td>...</td>\n",
              "      <td>...</td>\n",
              "    </tr>\n",
              "    <tr>\n",
              "      <th>96</th>\n",
              "      <td>29/08/2020</td>\n",
              "      <td>Male</td>\n",
              "      <td>963</td>\n",
              "      <td>3680</td>\n",
              "      <td>Black</td>\n",
              "      <td>4.0</td>\n",
              "      <td>5.0</td>\n",
              "      <td>5.0</td>\n",
              "      <td>5.0</td>\n",
              "    </tr>\n",
              "    <tr>\n",
              "      <th>97</th>\n",
              "      <td>29/08/2020</td>\n",
              "      <td>Male</td>\n",
              "      <td>278</td>\n",
              "      <td>3595</td>\n",
              "      <td>Black</td>\n",
              "      <td>5.0</td>\n",
              "      <td>5.0</td>\n",
              "      <td>5.0</td>\n",
              "      <td>5.0</td>\n",
              "    </tr>\n",
              "    <tr>\n",
              "      <th>98</th>\n",
              "      <td>06/09/2020</td>\n",
              "      <td>Male</td>\n",
              "      <td>1706</td>\n",
              "      <td>4000</td>\n",
              "      <td>NaN</td>\n",
              "      <td>NaN</td>\n",
              "      <td>NaN</td>\n",
              "      <td>NaN</td>\n",
              "      <td>NaN</td>\n",
              "    </tr>\n",
              "    <tr>\n",
              "      <th>99</th>\n",
              "      <td>06/09/2020</td>\n",
              "      <td>Female</td>\n",
              "      <td>5177</td>\n",
              "      <td>3420</td>\n",
              "      <td>NaN</td>\n",
              "      <td>NaN</td>\n",
              "      <td>NaN</td>\n",
              "      <td>NaN</td>\n",
              "      <td>NaN</td>\n",
              "    </tr>\n",
              "    <tr>\n",
              "      <th>100</th>\n",
              "      <td>06/09/2020</td>\n",
              "      <td>Female</td>\n",
              "      <td>5182</td>\n",
              "      <td>3790</td>\n",
              "      <td>NaN</td>\n",
              "      <td>NaN</td>\n",
              "      <td>NaN</td>\n",
              "      <td>NaN</td>\n",
              "      <td>NaN</td>\n",
              "    </tr>\n",
              "  </tbody>\n",
              "</table>\n",
              "<p>101 rows × 9 columns</p>\n",
              "</div>"
            ],
            "text/plain": [
              "           Date     Sex  AnimalIdentifier  ...  Head Type  FeatherColor\n",
              "0    30/04/2020    Male                 0  ...   NaN  NaN           NaN\n",
              "1    30/04/2020    Male                 0  ...   NaN  NaN           NaN\n",
              "2    30/04/2020    Male                 0  ...   NaN  NaN           NaN\n",
              "3    30/04/2020    Male                 0  ...   NaN  NaN           NaN\n",
              "4    30/04/2020    Male                 0  ...   NaN  NaN           NaN\n",
              "..          ...     ...               ...  ...   ...  ...           ...\n",
              "96   29/08/2020    Male               963  ...   5.0  5.0           5.0\n",
              "97   29/08/2020    Male               278  ...   5.0  5.0           5.0\n",
              "98   06/09/2020    Male              1706  ...   NaN  NaN           NaN\n",
              "99   06/09/2020  Female              5177  ...   NaN  NaN           NaN\n",
              "100  06/09/2020  Female              5182  ...   NaN  NaN           NaN\n",
              "\n",
              "[101 rows x 9 columns]"
            ]
          },
          "metadata": {
            "tags": []
          },
          "execution_count": 23
        }
      ]
    },
    {
      "cell_type": "code",
      "metadata": {
        "id": "xnfK_7goaE_L",
        "colab_type": "code",
        "colab": {
          "base_uri": "https://localhost:8080/",
          "height": 199
        },
        "outputId": "a14f6b73-8ec8-48f5-e37e-a63c1a21dff2"
      },
      "source": [
        "df_scorings.dtypes"
      ],
      "execution_count": null,
      "outputs": [
        {
          "output_type": "execute_result",
          "data": {
            "text/plain": [
              "Date                 object\n",
              "Sex                  object\n",
              "AnimalIdentifier      int64\n",
              "Weight                int64\n",
              "Color                object\n",
              "Feet                float64\n",
              "Head                float64\n",
              "Type                float64\n",
              "FeatherColor        float64\n",
              "dtype: object"
            ]
          },
          "metadata": {
            "tags": []
          },
          "execution_count": 24
        }
      ]
    },
    {
      "cell_type": "code",
      "metadata": {
        "id": "5VLB5S1IafcK",
        "colab_type": "code",
        "colab": {}
      },
      "source": [
        "col = df_scorings.loc[: , \"Feet\":\"FeatherColor\"]"
      ],
      "execution_count": null,
      "outputs": []
    },
    {
      "cell_type": "code",
      "metadata": {
        "id": "OCyYzY6gaFkL",
        "colab_type": "code",
        "colab": {}
      },
      "source": [
        "df_scorings['AverageScore'] = col.mean(axis=1)"
      ],
      "execution_count": null,
      "outputs": []
    },
    {
      "cell_type": "code",
      "metadata": {
        "id": "pfZAQxo2av5T",
        "colab_type": "code",
        "colab": {
          "base_uri": "https://localhost:8080/",
          "height": 407
        },
        "outputId": "8f0e4ad0-1bef-49f2-9966-630629d2474b"
      },
      "source": [
        "df_scorings"
      ],
      "execution_count": null,
      "outputs": [
        {
          "output_type": "execute_result",
          "data": {
            "text/html": [
              "<div>\n",
              "<style scoped>\n",
              "    .dataframe tbody tr th:only-of-type {\n",
              "        vertical-align: middle;\n",
              "    }\n",
              "\n",
              "    .dataframe tbody tr th {\n",
              "        vertical-align: top;\n",
              "    }\n",
              "\n",
              "    .dataframe thead th {\n",
              "        text-align: right;\n",
              "    }\n",
              "</style>\n",
              "<table border=\"1\" class=\"dataframe\">\n",
              "  <thead>\n",
              "    <tr style=\"text-align: right;\">\n",
              "      <th></th>\n",
              "      <th>Date</th>\n",
              "      <th>Sex</th>\n",
              "      <th>AnimalIdentifier</th>\n",
              "      <th>Weight</th>\n",
              "      <th>Color</th>\n",
              "      <th>Feet</th>\n",
              "      <th>Head</th>\n",
              "      <th>Type</th>\n",
              "      <th>FeatherColor</th>\n",
              "      <th>AverageType</th>\n",
              "    </tr>\n",
              "  </thead>\n",
              "  <tbody>\n",
              "    <tr>\n",
              "      <th>0</th>\n",
              "      <td>30/04/2020</td>\n",
              "      <td>Male</td>\n",
              "      <td>0</td>\n",
              "      <td>637</td>\n",
              "      <td>Blue</td>\n",
              "      <td>NaN</td>\n",
              "      <td>NaN</td>\n",
              "      <td>NaN</td>\n",
              "      <td>NaN</td>\n",
              "      <td>NaN</td>\n",
              "    </tr>\n",
              "    <tr>\n",
              "      <th>1</th>\n",
              "      <td>30/04/2020</td>\n",
              "      <td>Male</td>\n",
              "      <td>0</td>\n",
              "      <td>686</td>\n",
              "      <td>Black</td>\n",
              "      <td>NaN</td>\n",
              "      <td>NaN</td>\n",
              "      <td>NaN</td>\n",
              "      <td>NaN</td>\n",
              "      <td>NaN</td>\n",
              "    </tr>\n",
              "    <tr>\n",
              "      <th>2</th>\n",
              "      <td>30/04/2020</td>\n",
              "      <td>Male</td>\n",
              "      <td>0</td>\n",
              "      <td>702</td>\n",
              "      <td>NaN</td>\n",
              "      <td>NaN</td>\n",
              "      <td>NaN</td>\n",
              "      <td>NaN</td>\n",
              "      <td>NaN</td>\n",
              "      <td>NaN</td>\n",
              "    </tr>\n",
              "    <tr>\n",
              "      <th>3</th>\n",
              "      <td>30/04/2020</td>\n",
              "      <td>Male</td>\n",
              "      <td>0</td>\n",
              "      <td>740</td>\n",
              "      <td>NaN</td>\n",
              "      <td>NaN</td>\n",
              "      <td>NaN</td>\n",
              "      <td>NaN</td>\n",
              "      <td>NaN</td>\n",
              "      <td>NaN</td>\n",
              "    </tr>\n",
              "    <tr>\n",
              "      <th>4</th>\n",
              "      <td>30/04/2020</td>\n",
              "      <td>Male</td>\n",
              "      <td>0</td>\n",
              "      <td>740</td>\n",
              "      <td>NaN</td>\n",
              "      <td>NaN</td>\n",
              "      <td>NaN</td>\n",
              "      <td>NaN</td>\n",
              "      <td>NaN</td>\n",
              "      <td>NaN</td>\n",
              "    </tr>\n",
              "    <tr>\n",
              "      <th>...</th>\n",
              "      <td>...</td>\n",
              "      <td>...</td>\n",
              "      <td>...</td>\n",
              "      <td>...</td>\n",
              "      <td>...</td>\n",
              "      <td>...</td>\n",
              "      <td>...</td>\n",
              "      <td>...</td>\n",
              "      <td>...</td>\n",
              "      <td>...</td>\n",
              "    </tr>\n",
              "    <tr>\n",
              "      <th>96</th>\n",
              "      <td>29/08/2020</td>\n",
              "      <td>Male</td>\n",
              "      <td>963</td>\n",
              "      <td>3680</td>\n",
              "      <td>Black</td>\n",
              "      <td>4.0</td>\n",
              "      <td>5.0</td>\n",
              "      <td>5.0</td>\n",
              "      <td>5.0</td>\n",
              "      <td>4.75</td>\n",
              "    </tr>\n",
              "    <tr>\n",
              "      <th>97</th>\n",
              "      <td>29/08/2020</td>\n",
              "      <td>Male</td>\n",
              "      <td>278</td>\n",
              "      <td>3595</td>\n",
              "      <td>Black</td>\n",
              "      <td>5.0</td>\n",
              "      <td>5.0</td>\n",
              "      <td>5.0</td>\n",
              "      <td>5.0</td>\n",
              "      <td>5.00</td>\n",
              "    </tr>\n",
              "    <tr>\n",
              "      <th>98</th>\n",
              "      <td>06/09/2020</td>\n",
              "      <td>Male</td>\n",
              "      <td>1706</td>\n",
              "      <td>4000</td>\n",
              "      <td>NaN</td>\n",
              "      <td>NaN</td>\n",
              "      <td>NaN</td>\n",
              "      <td>NaN</td>\n",
              "      <td>NaN</td>\n",
              "      <td>NaN</td>\n",
              "    </tr>\n",
              "    <tr>\n",
              "      <th>99</th>\n",
              "      <td>06/09/2020</td>\n",
              "      <td>Female</td>\n",
              "      <td>5177</td>\n",
              "      <td>3420</td>\n",
              "      <td>NaN</td>\n",
              "      <td>NaN</td>\n",
              "      <td>NaN</td>\n",
              "      <td>NaN</td>\n",
              "      <td>NaN</td>\n",
              "      <td>NaN</td>\n",
              "    </tr>\n",
              "    <tr>\n",
              "      <th>100</th>\n",
              "      <td>06/09/2020</td>\n",
              "      <td>Female</td>\n",
              "      <td>5182</td>\n",
              "      <td>3790</td>\n",
              "      <td>NaN</td>\n",
              "      <td>NaN</td>\n",
              "      <td>NaN</td>\n",
              "      <td>NaN</td>\n",
              "      <td>NaN</td>\n",
              "      <td>NaN</td>\n",
              "    </tr>\n",
              "  </tbody>\n",
              "</table>\n",
              "<p>101 rows × 10 columns</p>\n",
              "</div>"
            ],
            "text/plain": [
              "           Date     Sex  AnimalIdentifier  ...  Type FeatherColor  AverageType\n",
              "0    30/04/2020    Male                 0  ...   NaN          NaN          NaN\n",
              "1    30/04/2020    Male                 0  ...   NaN          NaN          NaN\n",
              "2    30/04/2020    Male                 0  ...   NaN          NaN          NaN\n",
              "3    30/04/2020    Male                 0  ...   NaN          NaN          NaN\n",
              "4    30/04/2020    Male                 0  ...   NaN          NaN          NaN\n",
              "..          ...     ...               ...  ...   ...          ...          ...\n",
              "96   29/08/2020    Male               963  ...   5.0          5.0         4.75\n",
              "97   29/08/2020    Male               278  ...   5.0          5.0         5.00\n",
              "98   06/09/2020    Male              1706  ...   NaN          NaN          NaN\n",
              "99   06/09/2020  Female              5177  ...   NaN          NaN          NaN\n",
              "100  06/09/2020  Female              5182  ...   NaN          NaN          NaN\n",
              "\n",
              "[101 rows x 10 columns]"
            ]
          },
          "metadata": {
            "tags": []
          },
          "execution_count": 28
        }
      ]
    },
    {
      "cell_type": "markdown",
      "metadata": {
        "id": "77nT7zsGayz7",
        "colab_type": "text"
      },
      "source": [
        "## Visualisation "
      ]
    },
    {
      "cell_type": "markdown",
      "metadata": {
        "id": "DI6TC9pya8cy",
        "colab_type": "text"
      },
      "source": [
        "## Weight boxplot"
      ]
    },
    {
      "cell_type": "code",
      "metadata": {
        "id": "DcxfVcHCbHJZ",
        "colab_type": "code",
        "colab": {}
      },
      "source": [
        "# import matplotlib\n",
        "import matplotlib.pyplot as plt"
      ],
      "execution_count": null,
      "outputs": []
    },
    {
      "cell_type": "code",
      "metadata": {
        "id": "GQN5BBG4bKHb",
        "colab_type": "code",
        "colab": {
          "base_uri": "https://localhost:8080/",
          "height": 319
        },
        "outputId": "6b182263-6bfd-4961-8ce8-5a4b79f10914"
      },
      "source": [
        "df_scorings.boxplot(by='Sex', \n",
        "                       column=['Weight'], \n",
        "                       grid=True,\n",
        "                       vert=False)\n"
      ],
      "execution_count": null,
      "outputs": [
        {
          "output_type": "execute_result",
          "data": {
            "text/plain": [
              "<matplotlib.axes._subplots.AxesSubplot at 0x7f311c2cc860>"
            ]
          },
          "metadata": {
            "tags": []
          },
          "execution_count": 34
        },
        {
          "output_type": "display_data",
          "data": {
            "image/png": "[encoded data removed]",
            "text/plain": [
              "<Figure size 432x288 with 1 Axes>"
            ]
          },
          "metadata": {
            "tags": [],
            "needs_background": "light"
          }
        }
      ]
    },
    {
      "cell_type": "markdown",
      "metadata": {
        "id": "8c9S0_j0blrD",
        "colab_type": "text"
      },
      "source": [
        "## Weight and scoring histogram"
      ]
    },
    {
      "cell_type": "code",
      "metadata": {
        "id": "S-Q4twOUb4rx",
        "colab_type": "code",
        "colab": {
          "base_uri": "https://localhost:8080/",
          "height": 297
        },
        "outputId": "4f2695d8-16e5-4896-f2ad-e29de2336843"
      },
      "source": [
        "df_scorings.plot.scatter(x = 'Weight', y = 'AverageScore')"
      ],
      "execution_count": null,
      "outputs": [
        {
          "output_type": "execute_result",
          "data": {
            "text/plain": [
              "<matplotlib.axes._subplots.AxesSubplot at 0x7f311c25f780>"
            ]
          },
          "metadata": {
            "tags": []
          },
          "execution_count": 35
        },
        {
          "output_type": "display_data",
          "data": {
            "image/png": "[encoded data removed]",
            "text/plain": [
              "<Figure size 432x288 with 1 Axes>"
            ]
          },
          "metadata": {
            "tags": [],
            "needs_background": "light"
          }
        }
      ]
    }
  ]
}